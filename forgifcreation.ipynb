{
 "cells": [
  {
   "cell_type": "code",
   "execution_count": 28,
   "id": "5b88bd03",
   "metadata": {},
   "outputs": [],
   "source": [
    "import imageio\n",
    "from pathlib import Path\n",
    "image_path = Path(r'C:\\Users\\Safi\\Scripts\\ImageToGif\\Source_images')\n",
    "images = list(image_path.glob('*.png'))\n",
    "image_list = []\n",
    "for file_name in images:\n",
    "    image_list.append(imageio.imread(file_name))\n",
    "imageio.mimwrite('withmimwritemethod.gif', image_list)\n",
    "imageio.mimsave('withmimsavemethod2.gif', image_list, palettesize = 256, fps = 0.1, loop=3, duration = 0.3) # modify the frame duration as needed. read more about the parameters at https://imageio.readthedocs.io/en/stable/format_gif-pil.html#parameters-for-saving"
   ]
  },
  {
   "cell_type": "code",
   "execution_count": null,
   "id": "ad32dcb2",
   "metadata": {},
   "outputs": [],
   "source": []
  }
 ],
 "metadata": {
  "kernelspec": {
   "display_name": "Python 3",
   "language": "python",
   "name": "python3"
  },
  "language_info": {
   "codemirror_mode": {
    "name": "ipython",
    "version": 3
   },
   "file_extension": ".py",
   "mimetype": "text/x-python",
   "name": "python",
   "nbconvert_exporter": "python",
   "pygments_lexer": "ipython3",
   "version": "3.7.11"
  }
 },
 "nbformat": 4,
 "nbformat_minor": 5
}
